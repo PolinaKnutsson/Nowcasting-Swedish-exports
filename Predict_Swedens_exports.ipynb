{
 "cells": [
  {
   "cell_type": "markdown",
   "id": "a1e8d8f4",
   "metadata": {},
   "source": [
    "This notebook fetches data from dbnomics to predict Swedish Exports for the most recent quarter (explanatory variables are timelier).\n",
    "Things to improve later: treatment of timeliness, pre-processing (scaling), add variables, ..."
   ]
  },
  {
   "cell_type": "code",
   "execution_count": 177,
   "id": "d5f90143",
   "metadata": {},
   "outputs": [],
   "source": [
    "import pandas as pd\n",
    "import numpy as np\n",
    "from dbnomics import fetch_series, fetch_series_by_api_link"
   ]
  },
  {
   "cell_type": "code",
   "execution_count": 211,
   "id": "af1bfce8",
   "metadata": {},
   "outputs": [],
   "source": [
    "from sklearn.preprocessing import StandardScaler\n",
    "from sklearn.ensemble import GradientBoostingRegressor\n",
    "from sklearn.metrics import mean_absolute_error"
   ]
  },
  {
   "cell_type": "markdown",
   "id": "41db5706",
   "metadata": {},
   "source": [
    "### Fetch data"
   ]
  },
  {
   "cell_type": "code",
   "execution_count": 80,
   "id": "5a439678",
   "metadata": {},
   "outputs": [],
   "source": [
    "# Monthly CPI\n",
    "cpi = fetch_series(\"OECD\", \"KEI\", series_code=\"CPALTT01.SWE.GP.M\")\n",
    "cpi = cpi.query(\"period >= '2015'\")\n",
    "cpi = cpi[['period','value']]\n",
    "cpi= cpi.rename(columns = {'value':'cpi'})"
   ]
  },
  {
   "cell_type": "code",
   "execution_count": 82,
   "id": "8cb06e84",
   "metadata": {},
   "outputs": [],
   "source": [
    "# Monthly price index, Energy\n",
    "ep = fetch_series(\"IMF\", \"PCPS\", series_code=\"M.W00.PNRG.IX\")\n",
    "ep = ep.query(\"period >= '2015'\")\n",
    "ep = ep[['period','value']]\n",
    "ep = ep.rename(columns = {'value':'energy_prices'})"
   ]
  },
  {
   "cell_type": "code",
   "execution_count": 83,
   "id": "9fe44044",
   "metadata": {},
   "outputs": [
    {
     "data": {
      "text/html": [
       "<div>\n",
       "<style scoped>\n",
       "    .dataframe tbody tr th:only-of-type {\n",
       "        vertical-align: middle;\n",
       "    }\n",
       "\n",
       "    .dataframe tbody tr th {\n",
       "        vertical-align: top;\n",
       "    }\n",
       "\n",
       "    .dataframe thead th {\n",
       "        text-align: right;\n",
       "    }\n",
       "</style>\n",
       "<table border=\"1\" class=\"dataframe\">\n",
       "  <thead>\n",
       "    <tr style=\"text-align: right;\">\n",
       "      <th></th>\n",
       "      <th>period</th>\n",
       "      <th>energy_prices</th>\n",
       "    </tr>\n",
       "  </thead>\n",
       "  <tbody>\n",
       "    <tr>\n",
       "      <th>276</th>\n",
       "      <td>2015-01-01</td>\n",
       "      <td>122.036324</td>\n",
       "    </tr>\n",
       "    <tr>\n",
       "      <th>277</th>\n",
       "      <td>2015-02-01</td>\n",
       "      <td>133.647404</td>\n",
       "    </tr>\n",
       "    <tr>\n",
       "      <th>278</th>\n",
       "      <td>2015-03-01</td>\n",
       "      <td>128.307725</td>\n",
       "    </tr>\n",
       "    <tr>\n",
       "      <th>279</th>\n",
       "      <td>2015-04-01</td>\n",
       "      <td>130.528800</td>\n",
       "    </tr>\n",
       "    <tr>\n",
       "      <th>280</th>\n",
       "      <td>2015-05-01</td>\n",
       "      <td>137.483494</td>\n",
       "    </tr>\n",
       "  </tbody>\n",
       "</table>\n",
       "</div>"
      ],
      "text/plain": [
       "        period  energy_prices\n",
       "276 2015-01-01     122.036324\n",
       "277 2015-02-01     133.647404\n",
       "278 2015-03-01     128.307725\n",
       "279 2015-04-01     130.528800\n",
       "280 2015-05-01     137.483494"
      ]
     },
     "execution_count": 83,
     "metadata": {},
     "output_type": "execute_result"
    }
   ],
   "source": [
    "ep.head()"
   ]
  },
  {
   "cell_type": "code",
   "execution_count": 84,
   "id": "3fb2da72",
   "metadata": {},
   "outputs": [],
   "source": [
    "# Monthly price index, Metals\n",
    "mp = fetch_series(\"IMF\", \"PCPS\", series_code=\"M.W00.PALLMETA.IX\")\n",
    "mp = mp.query(\"period >= '2015'\")\n",
    "mp = mp[['period','value']]\n",
    "mp = mp.rename(columns = {'value':'metal_prices'})"
   ]
  },
  {
   "cell_type": "code",
   "execution_count": 86,
   "id": "18fe8921",
   "metadata": {},
   "outputs": [],
   "source": [
    "# Monthly price index, Agriculture\n",
    "ap = fetch_series(\"IMF\", \"PCPS\", series_code=\"M.W00.PRAWM.IX\")\n",
    "ap = ap.query(\"period >= '2015'\")\n",
    "ap = ap[['period','value']]\n",
    "ap = ap.rename(columns = {'value':'agri_prices'})"
   ]
  },
  {
   "cell_type": "code",
   "execution_count": 123,
   "id": "edf9d1b2",
   "metadata": {},
   "outputs": [],
   "source": [
    "# Quarterly GDP \n",
    "gdp = fetch_series(\"OECD\", \"MEI\", series_code=\"SWE.NAEXCP01.STSA.Q\")\n",
    "gdp = gdp.query(\"period >= '2015'\")\n",
    "gdp = gdp[['period','value']]\n",
    "gdp = gdp.rename(columns = {'value':'gdp'})"
   ]
  },
  {
   "cell_type": "code",
   "execution_count": 88,
   "id": "07ba9cea",
   "metadata": {},
   "outputs": [],
   "source": [
    "# Quarterly Exports \n",
    "exports = fetch_series(\"OECD\", \"MEI\", series_code=\"SWE.NAEXCP06.STSA.Q\")\n",
    "exports = exports.query(\"period >= '2015'\")\n",
    "exports = exports[['period','value']]\n",
    "exports = exports.rename(columns = {'value':'exports'})"
   ]
  },
  {
   "cell_type": "code",
   "execution_count": 89,
   "id": "9a1cea00",
   "metadata": {},
   "outputs": [],
   "source": [
    "# Monthly confidence  \n",
    "confidence = fetch_series(\"OECD\", \"KEI\", series_code=\"BSCICP02.SWE.ST.M\")\n",
    "confidence = confidence.query(\"period >= '2015'\")\n",
    "confidence = confidence[['period','value']]\n",
    "confidence = confidence.rename(columns = {'value':'confidence'})"
   ]
  },
  {
   "cell_type": "code",
   "execution_count": 90,
   "id": "de735f85",
   "metadata": {},
   "outputs": [],
   "source": [
    "# Exchange rates\n",
    "excr = fetch_series(\"OECD\", \"KEI\", series_code=\"CCUSMA02.SWE.ST.M\")\n",
    "excr = excr.query(\"period >= '2015'\")\n",
    "excr = excr[['period','value']]\n",
    "excr = excr.rename(columns = {'value':'exch_rate'})"
   ]
  },
  {
   "cell_type": "code",
   "execution_count": 95,
   "id": "6ff0ac90",
   "metadata": {},
   "outputs": [],
   "source": [
    "m = pd.merge(cpi, ep, on = 'period')\n",
    "m = pd.merge(m, mp, on = 'period')\n",
    "m = pd.merge(m, ap, on = 'period')\n",
    "m = pd.merge(m, confidence, on = 'period')"
   ]
  },
  {
   "cell_type": "code",
   "execution_count": 100,
   "id": "6d9351fa",
   "metadata": {},
   "outputs": [
    {
     "data": {
      "text/html": [
       "<div>\n",
       "<style scoped>\n",
       "    .dataframe tbody tr th:only-of-type {\n",
       "        vertical-align: middle;\n",
       "    }\n",
       "\n",
       "    .dataframe tbody tr th {\n",
       "        vertical-align: top;\n",
       "    }\n",
       "\n",
       "    .dataframe thead th {\n",
       "        text-align: right;\n",
       "    }\n",
       "</style>\n",
       "<table border=\"1\" class=\"dataframe\">\n",
       "  <thead>\n",
       "    <tr style=\"text-align: right;\">\n",
       "      <th></th>\n",
       "      <th>period</th>\n",
       "      <th>cpi</th>\n",
       "      <th>energy_prices</th>\n",
       "      <th>metal_prices</th>\n",
       "      <th>agri_prices</th>\n",
       "      <th>confidence</th>\n",
       "    </tr>\n",
       "  </thead>\n",
       "  <tbody>\n",
       "    <tr>\n",
       "      <th>0</th>\n",
       "      <td>2015-01-01</td>\n",
       "      <td>-1.050788</td>\n",
       "      <td>122.036324</td>\n",
       "      <td>110.950846</td>\n",
       "      <td>104.200238</td>\n",
       "      <td>-3.3</td>\n",
       "    </tr>\n",
       "    <tr>\n",
       "      <th>1</th>\n",
       "      <td>2015-02-01</td>\n",
       "      <td>0.701529</td>\n",
       "      <td>133.647404</td>\n",
       "      <td>107.747707</td>\n",
       "      <td>105.552220</td>\n",
       "      <td>-3.2</td>\n",
       "    </tr>\n",
       "    <tr>\n",
       "      <th>2</th>\n",
       "      <td>2015-03-01</td>\n",
       "      <td>0.083086</td>\n",
       "      <td>128.307725</td>\n",
       "      <td>104.520798</td>\n",
       "      <td>102.531777</td>\n",
       "      <td>-1.8</td>\n",
       "    </tr>\n",
       "    <tr>\n",
       "      <th>3</th>\n",
       "      <td>2015-04-01</td>\n",
       "      <td>-0.009579</td>\n",
       "      <td>130.528800</td>\n",
       "      <td>104.149816</td>\n",
       "      <td>104.192109</td>\n",
       "      <td>-7.2</td>\n",
       "    </tr>\n",
       "    <tr>\n",
       "      <th>4</th>\n",
       "      <td>2015-05-01</td>\n",
       "      <td>0.344872</td>\n",
       "      <td>137.483494</td>\n",
       "      <td>107.207184</td>\n",
       "      <td>106.129278</td>\n",
       "      <td>0.2</td>\n",
       "    </tr>\n",
       "  </tbody>\n",
       "</table>\n",
       "</div>"
      ],
      "text/plain": [
       "      period       cpi  energy_prices  metal_prices  agri_prices  confidence\n",
       "0 2015-01-01 -1.050788     122.036324    110.950846   104.200238        -3.3\n",
       "1 2015-02-01  0.701529     133.647404    107.747707   105.552220        -3.2\n",
       "2 2015-03-01  0.083086     128.307725    104.520798   102.531777        -1.8\n",
       "3 2015-04-01 -0.009579     130.528800    104.149816   104.192109        -7.2\n",
       "4 2015-05-01  0.344872     137.483494    107.207184   106.129278         0.2"
      ]
     },
     "execution_count": 100,
     "metadata": {},
     "output_type": "execute_result"
    }
   ],
   "source": [
    "m.head()"
   ]
  },
  {
   "cell_type": "code",
   "execution_count": 125,
   "id": "18ea8b20",
   "metadata": {},
   "outputs": [],
   "source": [
    "q = pd.merge(gdp, exports, on = 'period',  how = 'left')"
   ]
  },
  {
   "cell_type": "code",
   "execution_count": 126,
   "id": "088fa9e7",
   "metadata": {},
   "outputs": [],
   "source": [
    "# Move period defining quarter from the first to the last month \n",
    "q['period'] = q['period'] + pd.DateOffset(months=2)"
   ]
  },
  {
   "cell_type": "code",
   "execution_count": 127,
   "id": "7a671518",
   "metadata": {},
   "outputs": [
    {
     "data": {
      "text/html": [
       "<div>\n",
       "<style scoped>\n",
       "    .dataframe tbody tr th:only-of-type {\n",
       "        vertical-align: middle;\n",
       "    }\n",
       "\n",
       "    .dataframe tbody tr th {\n",
       "        vertical-align: top;\n",
       "    }\n",
       "\n",
       "    .dataframe thead th {\n",
       "        text-align: right;\n",
       "    }\n",
       "</style>\n",
       "<table border=\"1\" class=\"dataframe\">\n",
       "  <thead>\n",
       "    <tr style=\"text-align: right;\">\n",
       "      <th></th>\n",
       "      <th>period</th>\n",
       "      <th>gdp</th>\n",
       "      <th>exports</th>\n",
       "    </tr>\n",
       "  </thead>\n",
       "  <tbody>\n",
       "    <tr>\n",
       "      <th>0</th>\n",
       "      <td>2015-03-01</td>\n",
       "      <td>1042.871</td>\n",
       "      <td>459.302</td>\n",
       "    </tr>\n",
       "    <tr>\n",
       "      <th>1</th>\n",
       "      <td>2015-06-01</td>\n",
       "      <td>1057.844</td>\n",
       "      <td>464.352</td>\n",
       "    </tr>\n",
       "    <tr>\n",
       "      <th>2</th>\n",
       "      <td>2015-09-01</td>\n",
       "      <td>1073.916</td>\n",
       "      <td>469.678</td>\n",
       "    </tr>\n",
       "    <tr>\n",
       "      <th>3</th>\n",
       "      <td>2015-12-01</td>\n",
       "      <td>1084.969</td>\n",
       "      <td>471.105</td>\n",
       "    </tr>\n",
       "    <tr>\n",
       "      <th>4</th>\n",
       "      <td>2016-03-01</td>\n",
       "      <td>1086.052</td>\n",
       "      <td>458.042</td>\n",
       "    </tr>\n",
       "  </tbody>\n",
       "</table>\n",
       "</div>"
      ],
      "text/plain": [
       "      period       gdp  exports\n",
       "0 2015-03-01  1042.871  459.302\n",
       "1 2015-06-01  1057.844  464.352\n",
       "2 2015-09-01  1073.916  469.678\n",
       "3 2015-12-01  1084.969  471.105\n",
       "4 2016-03-01  1086.052  458.042"
      ]
     },
     "execution_count": 127,
     "metadata": {},
     "output_type": "execute_result"
    }
   ],
   "source": [
    "q.head()"
   ]
  },
  {
   "cell_type": "code",
   "execution_count": 150,
   "id": "48d2d926",
   "metadata": {},
   "outputs": [],
   "source": [
    "df = pd.merge(m,q, on = 'period', how = 'left')"
   ]
  },
  {
   "cell_type": "code",
   "execution_count": 151,
   "id": "4244fc46",
   "metadata": {},
   "outputs": [
    {
     "data": {
      "text/html": [
       "<div>\n",
       "<style scoped>\n",
       "    .dataframe tbody tr th:only-of-type {\n",
       "        vertical-align: middle;\n",
       "    }\n",
       "\n",
       "    .dataframe tbody tr th {\n",
       "        vertical-align: top;\n",
       "    }\n",
       "\n",
       "    .dataframe thead th {\n",
       "        text-align: right;\n",
       "    }\n",
       "</style>\n",
       "<table border=\"1\" class=\"dataframe\">\n",
       "  <thead>\n",
       "    <tr style=\"text-align: right;\">\n",
       "      <th></th>\n",
       "      <th>period</th>\n",
       "      <th>cpi</th>\n",
       "      <th>energy_prices</th>\n",
       "      <th>metal_prices</th>\n",
       "      <th>agri_prices</th>\n",
       "      <th>confidence</th>\n",
       "      <th>gdp</th>\n",
       "      <th>exports</th>\n",
       "    </tr>\n",
       "  </thead>\n",
       "  <tbody>\n",
       "    <tr>\n",
       "      <th>0</th>\n",
       "      <td>2015-01-01</td>\n",
       "      <td>-1.050788</td>\n",
       "      <td>122.036324</td>\n",
       "      <td>110.950846</td>\n",
       "      <td>104.200238</td>\n",
       "      <td>-3.3</td>\n",
       "      <td>NaN</td>\n",
       "      <td>NaN</td>\n",
       "    </tr>\n",
       "    <tr>\n",
       "      <th>1</th>\n",
       "      <td>2015-02-01</td>\n",
       "      <td>0.701529</td>\n",
       "      <td>133.647404</td>\n",
       "      <td>107.747707</td>\n",
       "      <td>105.552220</td>\n",
       "      <td>-3.2</td>\n",
       "      <td>NaN</td>\n",
       "      <td>NaN</td>\n",
       "    </tr>\n",
       "    <tr>\n",
       "      <th>2</th>\n",
       "      <td>2015-03-01</td>\n",
       "      <td>0.083086</td>\n",
       "      <td>128.307725</td>\n",
       "      <td>104.520798</td>\n",
       "      <td>102.531777</td>\n",
       "      <td>-1.8</td>\n",
       "      <td>1042.871</td>\n",
       "      <td>459.302</td>\n",
       "    </tr>\n",
       "    <tr>\n",
       "      <th>3</th>\n",
       "      <td>2015-04-01</td>\n",
       "      <td>-0.009579</td>\n",
       "      <td>130.528800</td>\n",
       "      <td>104.149816</td>\n",
       "      <td>104.192109</td>\n",
       "      <td>-7.2</td>\n",
       "      <td>NaN</td>\n",
       "      <td>NaN</td>\n",
       "    </tr>\n",
       "    <tr>\n",
       "      <th>4</th>\n",
       "      <td>2015-05-01</td>\n",
       "      <td>0.344872</td>\n",
       "      <td>137.483494</td>\n",
       "      <td>107.207184</td>\n",
       "      <td>106.129278</td>\n",
       "      <td>0.2</td>\n",
       "      <td>NaN</td>\n",
       "      <td>NaN</td>\n",
       "    </tr>\n",
       "  </tbody>\n",
       "</table>\n",
       "</div>"
      ],
      "text/plain": [
       "      period       cpi  energy_prices  metal_prices  agri_prices  confidence  \\\n",
       "0 2015-01-01 -1.050788     122.036324    110.950846   104.200238        -3.3   \n",
       "1 2015-02-01  0.701529     133.647404    107.747707   105.552220        -3.2   \n",
       "2 2015-03-01  0.083086     128.307725    104.520798   102.531777        -1.8   \n",
       "3 2015-04-01 -0.009579     130.528800    104.149816   104.192109        -7.2   \n",
       "4 2015-05-01  0.344872     137.483494    107.207184   106.129278         0.2   \n",
       "\n",
       "        gdp  exports  \n",
       "0       NaN      NaN  \n",
       "1       NaN      NaN  \n",
       "2  1042.871  459.302  \n",
       "3       NaN      NaN  \n",
       "4       NaN      NaN  "
      ]
     },
     "execution_count": 151,
     "metadata": {},
     "output_type": "execute_result"
    }
   ],
   "source": [
    "df.head()"
   ]
  },
  {
   "cell_type": "code",
   "execution_count": 152,
   "id": "36a5352a",
   "metadata": {},
   "outputs": [],
   "source": [
    "df['gdpm'] = df['gdp']/3\n",
    "df['gdpm'] = df['gdpm'].fillna(method = 'bfill')"
   ]
  },
  {
   "cell_type": "code",
   "execution_count": 153,
   "id": "6323fc70",
   "metadata": {},
   "outputs": [],
   "source": [
    "df['expm'] = df['exports']/3\n",
    "df['expm'] = df['expm'].fillna(method = 'bfill')"
   ]
  },
  {
   "cell_type": "code",
   "execution_count": 154,
   "id": "a4b0151a",
   "metadata": {},
   "outputs": [
    {
     "data": {
      "text/html": [
       "<div>\n",
       "<style scoped>\n",
       "    .dataframe tbody tr th:only-of-type {\n",
       "        vertical-align: middle;\n",
       "    }\n",
       "\n",
       "    .dataframe tbody tr th {\n",
       "        vertical-align: top;\n",
       "    }\n",
       "\n",
       "    .dataframe thead th {\n",
       "        text-align: right;\n",
       "    }\n",
       "</style>\n",
       "<table border=\"1\" class=\"dataframe\">\n",
       "  <thead>\n",
       "    <tr style=\"text-align: right;\">\n",
       "      <th></th>\n",
       "      <th>period</th>\n",
       "      <th>cpi</th>\n",
       "      <th>energy_prices</th>\n",
       "      <th>metal_prices</th>\n",
       "      <th>agri_prices</th>\n",
       "      <th>confidence</th>\n",
       "      <th>gdp</th>\n",
       "      <th>exports</th>\n",
       "      <th>gdpm</th>\n",
       "      <th>expm</th>\n",
       "    </tr>\n",
       "  </thead>\n",
       "  <tbody>\n",
       "    <tr>\n",
       "      <th>87</th>\n",
       "      <td>2022-04-01</td>\n",
       "      <td>0.617009</td>\n",
       "      <td>300.533178</td>\n",
       "      <td>194.044295</td>\n",
       "      <td>133.321796</td>\n",
       "      <td>24.8</td>\n",
       "      <td>NaN</td>\n",
       "      <td>NaN</td>\n",
       "      <td>491.013000</td>\n",
       "      <td>252.039333</td>\n",
       "    </tr>\n",
       "    <tr>\n",
       "      <th>88</th>\n",
       "      <td>2022-05-01</td>\n",
       "      <td>1.049666</td>\n",
       "      <td>306.674979</td>\n",
       "      <td>178.515934</td>\n",
       "      <td>134.699574</td>\n",
       "      <td>27.2</td>\n",
       "      <td>NaN</td>\n",
       "      <td>NaN</td>\n",
       "      <td>491.013000</td>\n",
       "      <td>252.039333</td>\n",
       "    </tr>\n",
       "    <tr>\n",
       "      <th>89</th>\n",
       "      <td>2022-06-01</td>\n",
       "      <td>1.402329</td>\n",
       "      <td>328.123480</td>\n",
       "      <td>173.812350</td>\n",
       "      <td>130.495182</td>\n",
       "      <td>20.8</td>\n",
       "      <td>1473.039</td>\n",
       "      <td>756.118</td>\n",
       "      <td>491.013000</td>\n",
       "      <td>252.039333</td>\n",
       "    </tr>\n",
       "    <tr>\n",
       "      <th>90</th>\n",
       "      <td>2022-07-01</td>\n",
       "      <td>0.088961</td>\n",
       "      <td>343.809997</td>\n",
       "      <td>156.129551</td>\n",
       "      <td>119.614529</td>\n",
       "      <td>20.4</td>\n",
       "      <td>NaN</td>\n",
       "      <td>NaN</td>\n",
       "      <td>499.789000</td>\n",
       "      <td>264.245000</td>\n",
       "    </tr>\n",
       "    <tr>\n",
       "      <th>91</th>\n",
       "      <td>2022-08-01</td>\n",
       "      <td>1.758780</td>\n",
       "      <td>376.412083</td>\n",
       "      <td>158.734847</td>\n",
       "      <td>117.685200</td>\n",
       "      <td>19.0</td>\n",
       "      <td>NaN</td>\n",
       "      <td>NaN</td>\n",
       "      <td>499.789000</td>\n",
       "      <td>264.245000</td>\n",
       "    </tr>\n",
       "    <tr>\n",
       "      <th>92</th>\n",
       "      <td>2022-09-01</td>\n",
       "      <td>1.429290</td>\n",
       "      <td>330.149586</td>\n",
       "      <td>151.220233</td>\n",
       "      <td>110.620482</td>\n",
       "      <td>12.6</td>\n",
       "      <td>1499.367</td>\n",
       "      <td>792.735</td>\n",
       "      <td>499.789000</td>\n",
       "      <td>264.245000</td>\n",
       "    </tr>\n",
       "    <tr>\n",
       "      <th>93</th>\n",
       "      <td>2022-10-01</td>\n",
       "      <td>0.216591</td>\n",
       "      <td>259.858676</td>\n",
       "      <td>148.620228</td>\n",
       "      <td>104.825132</td>\n",
       "      <td>8.3</td>\n",
       "      <td>NaN</td>\n",
       "      <td>NaN</td>\n",
       "      <td>499.881333</td>\n",
       "      <td>271.001333</td>\n",
       "    </tr>\n",
       "    <tr>\n",
       "      <th>94</th>\n",
       "      <td>2022-11-01</td>\n",
       "      <td>1.012915</td>\n",
       "      <td>256.859739</td>\n",
       "      <td>154.517386</td>\n",
       "      <td>105.618315</td>\n",
       "      <td>9.5</td>\n",
       "      <td>NaN</td>\n",
       "      <td>NaN</td>\n",
       "      <td>499.881333</td>\n",
       "      <td>271.001333</td>\n",
       "    </tr>\n",
       "    <tr>\n",
       "      <th>95</th>\n",
       "      <td>2022-12-01</td>\n",
       "      <td>2.069961</td>\n",
       "      <td>258.501791</td>\n",
       "      <td>164.732037</td>\n",
       "      <td>107.851906</td>\n",
       "      <td>7.6</td>\n",
       "      <td>1499.644</td>\n",
       "      <td>813.004</td>\n",
       "      <td>499.881333</td>\n",
       "      <td>271.001333</td>\n",
       "    </tr>\n",
       "    <tr>\n",
       "      <th>96</th>\n",
       "      <td>2023-01-01</td>\n",
       "      <td>-1.126376</td>\n",
       "      <td>223.272585</td>\n",
       "      <td>175.412945</td>\n",
       "      <td>109.540121</td>\n",
       "      <td>4.6</td>\n",
       "      <td>NaN</td>\n",
       "      <td>NaN</td>\n",
       "      <td>NaN</td>\n",
       "      <td>NaN</td>\n",
       "    </tr>\n",
       "  </tbody>\n",
       "</table>\n",
       "</div>"
      ],
      "text/plain": [
       "       period       cpi  energy_prices  metal_prices  agri_prices  confidence  \\\n",
       "87 2022-04-01  0.617009     300.533178    194.044295   133.321796        24.8   \n",
       "88 2022-05-01  1.049666     306.674979    178.515934   134.699574        27.2   \n",
       "89 2022-06-01  1.402329     328.123480    173.812350   130.495182        20.8   \n",
       "90 2022-07-01  0.088961     343.809997    156.129551   119.614529        20.4   \n",
       "91 2022-08-01  1.758780     376.412083    158.734847   117.685200        19.0   \n",
       "92 2022-09-01  1.429290     330.149586    151.220233   110.620482        12.6   \n",
       "93 2022-10-01  0.216591     259.858676    148.620228   104.825132         8.3   \n",
       "94 2022-11-01  1.012915     256.859739    154.517386   105.618315         9.5   \n",
       "95 2022-12-01  2.069961     258.501791    164.732037   107.851906         7.6   \n",
       "96 2023-01-01 -1.126376     223.272585    175.412945   109.540121         4.6   \n",
       "\n",
       "         gdp  exports        gdpm        expm  \n",
       "87       NaN      NaN  491.013000  252.039333  \n",
       "88       NaN      NaN  491.013000  252.039333  \n",
       "89  1473.039  756.118  491.013000  252.039333  \n",
       "90       NaN      NaN  499.789000  264.245000  \n",
       "91       NaN      NaN  499.789000  264.245000  \n",
       "92  1499.367  792.735  499.789000  264.245000  \n",
       "93       NaN      NaN  499.881333  271.001333  \n",
       "94       NaN      NaN  499.881333  271.001333  \n",
       "95  1499.644  813.004  499.881333  271.001333  \n",
       "96       NaN      NaN         NaN         NaN  "
      ]
     },
     "execution_count": 154,
     "metadata": {},
     "output_type": "execute_result"
    }
   ],
   "source": [
    "df.tail(10)"
   ]
  },
  {
   "cell_type": "code",
   "execution_count": 155,
   "id": "74174dde",
   "metadata": {},
   "outputs": [],
   "source": [
    "df.drop(columns = ['gdp', 'exports'],  inplace = True)"
   ]
  },
  {
   "cell_type": "code",
   "execution_count": 162,
   "id": "7506a0de",
   "metadata": {},
   "outputs": [],
   "source": [
    "df.rename(columns = {'gdpm': 'gdp', 'expm':'exports', 'period':'date'},  inplace = True)"
   ]
  },
  {
   "cell_type": "code",
   "execution_count": 163,
   "id": "a5767a90",
   "metadata": {},
   "outputs": [
    {
     "data": {
      "text/html": [
       "<div>\n",
       "<style scoped>\n",
       "    .dataframe tbody tr th:only-of-type {\n",
       "        vertical-align: middle;\n",
       "    }\n",
       "\n",
       "    .dataframe tbody tr th {\n",
       "        vertical-align: top;\n",
       "    }\n",
       "\n",
       "    .dataframe thead th {\n",
       "        text-align: right;\n",
       "    }\n",
       "</style>\n",
       "<table border=\"1\" class=\"dataframe\">\n",
       "  <thead>\n",
       "    <tr style=\"text-align: right;\">\n",
       "      <th></th>\n",
       "      <th>date</th>\n",
       "      <th>cpi</th>\n",
       "      <th>energy_prices</th>\n",
       "      <th>metal_prices</th>\n",
       "      <th>agri_prices</th>\n",
       "      <th>confidence</th>\n",
       "      <th>gdp</th>\n",
       "      <th>exports</th>\n",
       "    </tr>\n",
       "  </thead>\n",
       "  <tbody>\n",
       "    <tr>\n",
       "      <th>0</th>\n",
       "      <td>2015-01-01</td>\n",
       "      <td>-1.050788</td>\n",
       "      <td>122.036324</td>\n",
       "      <td>110.950846</td>\n",
       "      <td>104.200238</td>\n",
       "      <td>-3.3</td>\n",
       "      <td>347.623667</td>\n",
       "      <td>153.100667</td>\n",
       "    </tr>\n",
       "    <tr>\n",
       "      <th>1</th>\n",
       "      <td>2015-02-01</td>\n",
       "      <td>0.701529</td>\n",
       "      <td>133.647404</td>\n",
       "      <td>107.747707</td>\n",
       "      <td>105.552220</td>\n",
       "      <td>-3.2</td>\n",
       "      <td>347.623667</td>\n",
       "      <td>153.100667</td>\n",
       "    </tr>\n",
       "    <tr>\n",
       "      <th>2</th>\n",
       "      <td>2015-03-01</td>\n",
       "      <td>0.083086</td>\n",
       "      <td>128.307725</td>\n",
       "      <td>104.520798</td>\n",
       "      <td>102.531777</td>\n",
       "      <td>-1.8</td>\n",
       "      <td>347.623667</td>\n",
       "      <td>153.100667</td>\n",
       "    </tr>\n",
       "    <tr>\n",
       "      <th>3</th>\n",
       "      <td>2015-04-01</td>\n",
       "      <td>-0.009579</td>\n",
       "      <td>130.528800</td>\n",
       "      <td>104.149816</td>\n",
       "      <td>104.192109</td>\n",
       "      <td>-7.2</td>\n",
       "      <td>352.614667</td>\n",
       "      <td>154.784000</td>\n",
       "    </tr>\n",
       "    <tr>\n",
       "      <th>4</th>\n",
       "      <td>2015-05-01</td>\n",
       "      <td>0.344872</td>\n",
       "      <td>137.483494</td>\n",
       "      <td>107.207184</td>\n",
       "      <td>106.129278</td>\n",
       "      <td>0.2</td>\n",
       "      <td>352.614667</td>\n",
       "      <td>154.784000</td>\n",
       "    </tr>\n",
       "  </tbody>\n",
       "</table>\n",
       "</div>"
      ],
      "text/plain": [
       "        date       cpi  energy_prices  metal_prices  agri_prices  confidence  \\\n",
       "0 2015-01-01 -1.050788     122.036324    110.950846   104.200238        -3.3   \n",
       "1 2015-02-01  0.701529     133.647404    107.747707   105.552220        -3.2   \n",
       "2 2015-03-01  0.083086     128.307725    104.520798   102.531777        -1.8   \n",
       "3 2015-04-01 -0.009579     130.528800    104.149816   104.192109        -7.2   \n",
       "4 2015-05-01  0.344872     137.483494    107.207184   106.129278         0.2   \n",
       "\n",
       "          gdp     exports  \n",
       "0  347.623667  153.100667  \n",
       "1  347.623667  153.100667  \n",
       "2  347.623667  153.100667  \n",
       "3  352.614667  154.784000  \n",
       "4  352.614667  154.784000  "
      ]
     },
     "execution_count": 163,
     "metadata": {},
     "output_type": "execute_result"
    }
   ],
   "source": [
    "df.head()"
   ]
  },
  {
   "cell_type": "code",
   "execution_count": 213,
   "id": "dbfd7522",
   "metadata": {},
   "outputs": [],
   "source": [
    "data = df"
   ]
  },
  {
   "cell_type": "markdown",
   "id": "4465078a",
   "metadata": {},
   "source": [
    "### Train"
   ]
  },
  {
   "cell_type": "code",
   "execution_count": 263,
   "id": "f02bac88",
   "metadata": {},
   "outputs": [],
   "source": [
    "# Train and test split\n",
    "\n",
    "# Dates\n",
    "train_start_date = \"2015-01-01\"\n",
    "train_end_date = \"2020-03-01\"\n",
    "test_start_date = \"2020-04-01\"\n",
    "test_end_date = \"2020-12-01\"\n",
    "\n",
    "# Split\n",
    "train = data.loc[(data['date']>= train_start_date) & (data['date'] <= train_end_date), :].reset_index(drop = True)\n",
    "test = data.loc[(data['date'] >= train_start_date) & (data['date'] <= test_end_date), :].reset_index(drop = True)\n",
    "#test = data.loc[(data['date'] >= test_start_date) & (data['date'] <= test_end_date), :].reset_index(drop = True)"
   ]
  },
  {
   "cell_type": "code",
   "execution_count": 264,
   "id": "b5990829",
   "metadata": {},
   "outputs": [],
   "source": [
    "# Target variable\n",
    "target_variable = 'exports' "
   ]
  },
  {
   "cell_type": "code",
   "execution_count": 265,
   "id": "b7bd4795",
   "metadata": {},
   "outputs": [],
   "source": [
    "# Impute by forward filling\n",
    "train_processed = train.fillna(method = 'ffill')"
   ]
  },
  {
   "cell_type": "code",
   "execution_count": 266,
   "id": "b2c0f1cd",
   "metadata": {},
   "outputs": [],
   "source": [
    "# Impute remaining missing observations by backward filling\n",
    "train_processed = train_processed.fillna(method = 'bfill')"
   ]
  },
  {
   "cell_type": "code",
   "execution_count": 267,
   "id": "58e28465",
   "metadata": {},
   "outputs": [],
   "source": [
    "#continuous = train_processed.select_dtypes(include = [np.number]).columns"
   ]
  },
  {
   "cell_type": "code",
   "execution_count": 268,
   "id": "778d8ddc",
   "metadata": {},
   "outputs": [],
   "source": [
    "#train_processed[continuous] = StandardScaler().fit_transform(train_processed[continuous])"
   ]
  },
  {
   "cell_type": "code",
   "execution_count": 269,
   "id": "7095f208",
   "metadata": {},
   "outputs": [
    {
     "data": {
      "text/html": [
       "<div>\n",
       "<style scoped>\n",
       "    .dataframe tbody tr th:only-of-type {\n",
       "        vertical-align: middle;\n",
       "    }\n",
       "\n",
       "    .dataframe tbody tr th {\n",
       "        vertical-align: top;\n",
       "    }\n",
       "\n",
       "    .dataframe thead th {\n",
       "        text-align: right;\n",
       "    }\n",
       "</style>\n",
       "<table border=\"1\" class=\"dataframe\">\n",
       "  <thead>\n",
       "    <tr style=\"text-align: right;\">\n",
       "      <th></th>\n",
       "      <th>date</th>\n",
       "      <th>cpi</th>\n",
       "      <th>energy_prices</th>\n",
       "      <th>metal_prices</th>\n",
       "      <th>agri_prices</th>\n",
       "      <th>confidence</th>\n",
       "      <th>gdp</th>\n",
       "      <th>exports</th>\n",
       "    </tr>\n",
       "  </thead>\n",
       "  <tbody>\n",
       "    <tr>\n",
       "      <th>0</th>\n",
       "      <td>2015-01-01</td>\n",
       "      <td>-1.050788</td>\n",
       "      <td>122.036324</td>\n",
       "      <td>110.950846</td>\n",
       "      <td>104.200238</td>\n",
       "      <td>-3.3</td>\n",
       "      <td>347.623667</td>\n",
       "      <td>153.100667</td>\n",
       "    </tr>\n",
       "    <tr>\n",
       "      <th>1</th>\n",
       "      <td>2015-02-01</td>\n",
       "      <td>0.701529</td>\n",
       "      <td>133.647404</td>\n",
       "      <td>107.747707</td>\n",
       "      <td>105.552220</td>\n",
       "      <td>-3.2</td>\n",
       "      <td>347.623667</td>\n",
       "      <td>153.100667</td>\n",
       "    </tr>\n",
       "    <tr>\n",
       "      <th>2</th>\n",
       "      <td>2015-03-01</td>\n",
       "      <td>0.083086</td>\n",
       "      <td>128.307725</td>\n",
       "      <td>104.520798</td>\n",
       "      <td>102.531777</td>\n",
       "      <td>-1.8</td>\n",
       "      <td>347.623667</td>\n",
       "      <td>153.100667</td>\n",
       "    </tr>\n",
       "    <tr>\n",
       "      <th>3</th>\n",
       "      <td>2015-04-01</td>\n",
       "      <td>-0.009579</td>\n",
       "      <td>130.528800</td>\n",
       "      <td>104.149816</td>\n",
       "      <td>104.192109</td>\n",
       "      <td>-7.2</td>\n",
       "      <td>352.614667</td>\n",
       "      <td>154.784000</td>\n",
       "    </tr>\n",
       "    <tr>\n",
       "      <th>4</th>\n",
       "      <td>2015-05-01</td>\n",
       "      <td>0.344872</td>\n",
       "      <td>137.483494</td>\n",
       "      <td>107.207184</td>\n",
       "      <td>106.129278</td>\n",
       "      <td>0.2</td>\n",
       "      <td>352.614667</td>\n",
       "      <td>154.784000</td>\n",
       "    </tr>\n",
       "  </tbody>\n",
       "</table>\n",
       "</div>"
      ],
      "text/plain": [
       "        date       cpi  energy_prices  metal_prices  agri_prices  confidence  \\\n",
       "0 2015-01-01 -1.050788     122.036324    110.950846   104.200238        -3.3   \n",
       "1 2015-02-01  0.701529     133.647404    107.747707   105.552220        -3.2   \n",
       "2 2015-03-01  0.083086     128.307725    104.520798   102.531777        -1.8   \n",
       "3 2015-04-01 -0.009579     130.528800    104.149816   104.192109        -7.2   \n",
       "4 2015-05-01  0.344872     137.483494    107.207184   106.129278         0.2   \n",
       "\n",
       "          gdp     exports  \n",
       "0  347.623667  153.100667  \n",
       "1  347.623667  153.100667  \n",
       "2  347.623667  153.100667  \n",
       "3  352.614667  154.784000  \n",
       "4  352.614667  154.784000  "
      ]
     },
     "execution_count": 269,
     "metadata": {},
     "output_type": "execute_result"
    }
   ],
   "source": [
    "train_processed.head()"
   ]
  },
  {
   "cell_type": "code",
   "execution_count": 270,
   "id": "2c9c038c",
   "metadata": {},
   "outputs": [],
   "source": [
    "# train 10 models to average outputs\n",
    "models = []\n",
    "for i in range(10):\n",
    "    model = GradientBoostingRegressor(n_estimators = 100, \n",
    "                                      loss = \"absolute_error\", \n",
    "                                      max_depth = None, \n",
    "                                      min_samples_split = 2, \n",
    "                                      min_samples_leaf = 1)\n",
    "\n",
    "    \n",
    "    x = train_processed.drop([\"date\", target_variable], axis=1)\n",
    "    y = train_processed[target_variable]\n",
    "    \n",
    "    model.fit(x, y)\n",
    "    models.append(model)"
   ]
  },
  {
   "cell_type": "markdown",
   "id": "80a2d896",
   "metadata": {},
   "source": [
    "### Evaluate performance"
   ]
  },
  {
   "cell_type": "code",
   "execution_count": 271,
   "id": "615979e8",
   "metadata": {},
   "outputs": [],
   "source": [
    "# Pre-process test data\n",
    "test_processed = test.fillna(method = 'ffill')\n",
    "test_processed = test_processed.fillna(method = 'bfill')\n",
    "#test_processed[continuous] = StandardScaler().fit_transform(test_processed[continuous])"
   ]
  },
  {
   "cell_type": "code",
   "execution_count": 272,
   "id": "d767fae2",
   "metadata": {},
   "outputs": [
    {
     "data": {
      "text/html": [
       "<div>\n",
       "<style scoped>\n",
       "    .dataframe tbody tr th:only-of-type {\n",
       "        vertical-align: middle;\n",
       "    }\n",
       "\n",
       "    .dataframe tbody tr th {\n",
       "        vertical-align: top;\n",
       "    }\n",
       "\n",
       "    .dataframe thead th {\n",
       "        text-align: right;\n",
       "    }\n",
       "</style>\n",
       "<table border=\"1\" class=\"dataframe\">\n",
       "  <thead>\n",
       "    <tr style=\"text-align: right;\">\n",
       "      <th></th>\n",
       "      <th>date</th>\n",
       "      <th>cpi</th>\n",
       "      <th>energy_prices</th>\n",
       "      <th>metal_prices</th>\n",
       "      <th>agri_prices</th>\n",
       "      <th>confidence</th>\n",
       "      <th>gdp</th>\n",
       "      <th>exports</th>\n",
       "    </tr>\n",
       "  </thead>\n",
       "  <tbody>\n",
       "    <tr>\n",
       "      <th>0</th>\n",
       "      <td>2015-01-01</td>\n",
       "      <td>-1.050788</td>\n",
       "      <td>122.036324</td>\n",
       "      <td>110.950846</td>\n",
       "      <td>104.200238</td>\n",
       "      <td>-3.3</td>\n",
       "      <td>347.623667</td>\n",
       "      <td>153.100667</td>\n",
       "    </tr>\n",
       "    <tr>\n",
       "      <th>1</th>\n",
       "      <td>2015-02-01</td>\n",
       "      <td>0.701529</td>\n",
       "      <td>133.647404</td>\n",
       "      <td>107.747707</td>\n",
       "      <td>105.552220</td>\n",
       "      <td>-3.2</td>\n",
       "      <td>347.623667</td>\n",
       "      <td>153.100667</td>\n",
       "    </tr>\n",
       "    <tr>\n",
       "      <th>2</th>\n",
       "      <td>2015-03-01</td>\n",
       "      <td>0.083086</td>\n",
       "      <td>128.307725</td>\n",
       "      <td>104.520798</td>\n",
       "      <td>102.531777</td>\n",
       "      <td>-1.8</td>\n",
       "      <td>347.623667</td>\n",
       "      <td>153.100667</td>\n",
       "    </tr>\n",
       "    <tr>\n",
       "      <th>3</th>\n",
       "      <td>2015-04-01</td>\n",
       "      <td>-0.009579</td>\n",
       "      <td>130.528800</td>\n",
       "      <td>104.149816</td>\n",
       "      <td>104.192109</td>\n",
       "      <td>-7.2</td>\n",
       "      <td>352.614667</td>\n",
       "      <td>154.784000</td>\n",
       "    </tr>\n",
       "    <tr>\n",
       "      <th>4</th>\n",
       "      <td>2015-05-01</td>\n",
       "      <td>0.344872</td>\n",
       "      <td>137.483494</td>\n",
       "      <td>107.207184</td>\n",
       "      <td>106.129278</td>\n",
       "      <td>0.2</td>\n",
       "      <td>352.614667</td>\n",
       "      <td>154.784000</td>\n",
       "    </tr>\n",
       "  </tbody>\n",
       "</table>\n",
       "</div>"
      ],
      "text/plain": [
       "        date       cpi  energy_prices  metal_prices  agri_prices  confidence  \\\n",
       "0 2015-01-01 -1.050788     122.036324    110.950846   104.200238        -3.3   \n",
       "1 2015-02-01  0.701529     133.647404    107.747707   105.552220        -3.2   \n",
       "2 2015-03-01  0.083086     128.307725    104.520798   102.531777        -1.8   \n",
       "3 2015-04-01 -0.009579     130.528800    104.149816   104.192109        -7.2   \n",
       "4 2015-05-01  0.344872     137.483494    107.207184   106.129278         0.2   \n",
       "\n",
       "          gdp     exports  \n",
       "0  347.623667  153.100667  \n",
       "1  347.623667  153.100667  \n",
       "2  347.623667  153.100667  \n",
       "3  352.614667  154.784000  \n",
       "4  352.614667  154.784000  "
      ]
     },
     "execution_count": 272,
     "metadata": {},
     "output_type": "execute_result"
    }
   ],
   "source": [
    "test_processed.head()"
   ]
  },
  {
   "cell_type": "code",
   "execution_count": 273,
   "id": "49dc311f",
   "metadata": {},
   "outputs": [],
   "source": [
    "y_true = test_processed[target_variable].values"
   ]
  },
  {
   "cell_type": "code",
   "execution_count": 274,
   "id": "e52e28bc",
   "metadata": {},
   "outputs": [
    {
     "data": {
      "text/plain": [
       "array([153.10066667, 153.10066667, 153.10066667, 154.784     ,\n",
       "       154.784     , 154.784     , 156.55933333, 156.55933333,\n",
       "       156.55933333, 157.035     , 157.035     , 157.035     ,\n",
       "       152.68066667, 152.68066667, 152.68066667, 151.351     ,\n",
       "       151.351     , 151.351     , 156.406     , 156.406     ,\n",
       "       156.406     , 165.17566667, 165.17566667, 165.17566667,\n",
       "       163.92433333, 163.92433333, 163.92433333, 169.69133333,\n",
       "       169.69133333, 169.69133333, 167.09433333, 167.09433333,\n",
       "       167.09433333, 173.427     , 173.427     , 173.427     ,\n",
       "       176.41033333, 176.41033333, 176.41033333, 180.981     ,\n",
       "       180.981     , 180.981     , 186.09333333, 186.09333333,\n",
       "       186.09333333, 193.147     , 193.147     , 193.147     ,\n",
       "       197.41266667, 197.41266667, 197.41266667, 204.707     ,\n",
       "       204.707     , 204.707     , 204.087     , 204.087     ,\n",
       "       204.087     , 200.57433333, 200.57433333, 200.57433333,\n",
       "       199.23333333, 199.23333333, 199.23333333, 162.51966667,\n",
       "       162.51966667, 162.51966667, 178.62166667, 178.62166667,\n",
       "       178.62166667, 195.17733333, 195.17733333, 195.17733333])"
      ]
     },
     "execution_count": 274,
     "metadata": {},
     "output_type": "execute_result"
    }
   ],
   "source": [
    "y_true"
   ]
  },
  {
   "cell_type": "code",
   "execution_count": 275,
   "id": "2f57bf18",
   "metadata": {},
   "outputs": [],
   "source": [
    "y_pred = model.predict(test_processed.drop([\"date\", target_variable], axis=1))"
   ]
  },
  {
   "cell_type": "code",
   "execution_count": 276,
   "id": "961654e0",
   "metadata": {},
   "outputs": [
    {
     "data": {
      "text/plain": [
       "array([153.09943114, 153.32204851, 153.12818904, 154.78392876,\n",
       "       154.78472787, 154.78393642, 156.55793836, 156.45733257,\n",
       "       156.559467  , 157.03340462, 157.03292284, 157.03364163,\n",
       "       152.68297821, 152.67476937, 152.6784713 , 151.36980496,\n",
       "       151.35002161, 151.34921027, 156.40411123, 156.39854067,\n",
       "       156.4042964 , 165.17357901, 165.17258015, 165.16252069,\n",
       "       163.92329466, 163.92437649, 163.92331428, 169.689696  ,\n",
       "       169.66511599, 169.69037045, 167.09433553, 167.09439581,\n",
       "       167.09433664, 173.42701862, 173.43499437, 173.42779583,\n",
       "       176.41002928, 176.41059783, 176.41117956, 180.98104027,\n",
       "       180.98172454, 180.98236776, 186.08490293, 186.0853046 ,\n",
       "       186.08605799, 193.14686447, 193.14696101, 193.14786837,\n",
       "       197.41587608, 197.41346498, 197.41427398, 204.52720114,\n",
       "       204.77739542, 203.05351807, 201.70276116, 202.1821832 ,\n",
       "       202.9450083 , 200.58897561, 200.68485898, 200.57290632,\n",
       "       199.23112992, 199.39936581, 199.23231877, 181.10003173,\n",
       "       181.11525869, 181.18912343, 201.40176541, 201.87666436,\n",
       "       200.88953848, 199.5901135 , 200.64368525, 200.9580749 ])"
      ]
     },
     "execution_count": 276,
     "metadata": {},
     "output_type": "execute_result"
    }
   ],
   "source": [
    "y_pred"
   ]
  },
  {
   "cell_type": "code",
   "execution_count": 277,
   "id": "234b6426",
   "metadata": {},
   "outputs": [
    {
     "data": {
      "text/plain": [
       "1.4333986013356192"
      ]
     },
     "execution_count": 277,
     "metadata": {},
     "output_type": "execute_result"
    }
   ],
   "source": [
    "np.sqrt(mean_absolute_error(y_true, y_pred))"
   ]
  },
  {
   "cell_type": "code",
   "execution_count": 279,
   "id": "9ab697ca",
   "metadata": {},
   "outputs": [],
   "source": [
    "all_dates = test_processed['date']"
   ]
  },
  {
   "cell_type": "code",
   "execution_count": 280,
   "id": "124780c6",
   "metadata": {},
   "outputs": [
    {
     "data": {
      "text/plain": [
       "0    2015-01-01\n",
       "1    2015-02-01\n",
       "2    2015-03-01\n",
       "3    2015-04-01\n",
       "4    2015-05-01\n",
       "        ...    \n",
       "67   2020-08-01\n",
       "68   2020-09-01\n",
       "69   2020-10-01\n",
       "70   2020-11-01\n",
       "71   2020-12-01\n",
       "Name: date, Length: 72, dtype: datetime64[ns]"
      ]
     },
     "execution_count": 280,
     "metadata": {},
     "output_type": "execute_result"
    }
   ],
   "source": [
    "all_dates"
   ]
  },
  {
   "cell_type": "code",
   "execution_count": 281,
   "id": "63322567",
   "metadata": {},
   "outputs": [
    {
     "data": {
      "text/plain": [
       "<AxesSubplot:xlabel='date'>"
      ]
     },
     "execution_count": 281,
     "metadata": {},
     "output_type": "execute_result"
    },
    {
     "data": {
      "image/png": "[encoded data removed]",
      "text/plain": [
       "<Figure size 640x480 with 1 Axes>"
      ]
     },
     "metadata": {},
     "output_type": "display_data"
    }
   ],
   "source": [
    "# plot of predictions vs test_values\n",
    "pd.DataFrame({\n",
    "    \"true values\":y_true, \n",
    "    \"predictions\":y_pred},\n",
    "    index = all_dates).plot()"
   ]
  },
  {
   "cell_type": "markdown",
   "id": "27383020",
   "metadata": {},
   "source": [
    "### Predict"
   ]
  },
  {
   "cell_type": "code",
   "execution_count": 305,
   "id": "41845623",
   "metadata": {},
   "outputs": [],
   "source": [
    "prediction_date = data['date'].max() "
   ]
  },
  {
   "cell_type": "code",
   "execution_count": 306,
   "id": "13b7f8ac",
   "metadata": {},
   "outputs": [],
   "source": [
    "data_pred = data.drop(['date', target_variable], axis = 1)"
   ]
  },
  {
   "cell_type": "code",
   "execution_count": 307,
   "id": "a5203424",
   "metadata": {},
   "outputs": [],
   "source": [
    "# Pre-process test data\n",
    "data_pred_processed = data_pred.fillna(method = 'ffill')\n",
    "data_pred_processed = data_pred_processed.fillna(method = 'bfill')\n",
    "#test_processed[continuous] = StandardScaler().fit_transform(test_processed[continuous])"
   ]
  },
  {
   "cell_type": "code",
   "execution_count": 308,
   "id": "496df6cb",
   "metadata": {},
   "outputs": [
    {
     "name": "stdout",
     "output_type": "stream",
     "text": [
      "<class 'pandas.core.frame.DataFrame'>\n",
      "Int64Index: 97 entries, 0 to 96\n",
      "Data columns (total 6 columns):\n",
      " #   Column         Non-Null Count  Dtype  \n",
      "---  ------         --------------  -----  \n",
      " 0   cpi            97 non-null     float64\n",
      " 1   energy_prices  97 non-null     float64\n",
      " 2   metal_prices   97 non-null     float64\n",
      " 3   agri_prices    97 non-null     float64\n",
      " 4   confidence     97 non-null     float64\n",
      " 5   gdp            97 non-null     float64\n",
      "dtypes: float64(6)\n",
      "memory usage: 5.3 KB\n"
     ]
    }
   ],
   "source": [
    "data_pred_processed.info()"
   ]
  },
  {
   "cell_type": "code",
   "execution_count": 315,
   "id": "8bb4899c",
   "metadata": {},
   "outputs": [],
   "source": [
    "preds = []\n",
    "for i in range(10):\n",
    "    prediction = models[i].predict(data_pred_processed)[0]\n",
    "    preds.append(prediction)\n",
    "        \n",
    "y = np.nanmean(preds)"
   ]
  },
  {
   "cell_type": "code",
   "execution_count": 363,
   "id": "d6d26fa6",
   "metadata": {},
   "outputs": [],
   "source": [
    "d = {'Date': prediction_date, 'Exports':[y]}"
   ]
  },
  {
   "cell_type": "code",
   "execution_count": 364,
   "id": "ad8ae3bf",
   "metadata": {},
   "outputs": [],
   "source": [
    "result = pd.DataFrame(d)"
   ]
  },
  {
   "cell_type": "code",
   "execution_count": 366,
   "id": "f73f78c9",
   "metadata": {},
   "outputs": [
    {
     "data": {
      "text/html": [
       "<div>\n",
       "<style scoped>\n",
       "    .dataframe tbody tr th:only-of-type {\n",
       "        vertical-align: middle;\n",
       "    }\n",
       "\n",
       "    .dataframe tbody tr th {\n",
       "        vertical-align: top;\n",
       "    }\n",
       "\n",
       "    .dataframe thead th {\n",
       "        text-align: right;\n",
       "    }\n",
       "</style>\n",
       "<table border=\"1\" class=\"dataframe\">\n",
       "  <thead>\n",
       "    <tr style=\"text-align: right;\">\n",
       "      <th></th>\n",
       "      <th>Date</th>\n",
       "      <th>Exports</th>\n",
       "    </tr>\n",
       "  </thead>\n",
       "  <tbody>\n",
       "    <tr>\n",
       "      <th>0</th>\n",
       "      <td>2023-01-01</td>\n",
       "      <td>153.107619</td>\n",
       "    </tr>\n",
       "  </tbody>\n",
       "</table>\n",
       "</div>"
      ],
      "text/plain": [
       "        Date     Exports\n",
       "0 2023-01-01  153.107619"
      ]
     },
     "execution_count": 366,
     "metadata": {},
     "output_type": "execute_result"
    }
   ],
   "source": [
    "result"
   ]
  },
  {
   "cell_type": "code",
   "execution_count": 370,
   "id": "dd9e44db",
   "metadata": {},
   "outputs": [],
   "source": [
    "result.to_csv('predict_exports', index=False)"
   ]
  }
 ],
 "metadata": {
  "kernelspec": {
   "display_name": "Python 3 (ipykernel)",
   "language": "python",
   "name": "python3"
  },
  "language_info": {
   "codemirror_mode": {
    "name": "ipython",
    "version": 3
   },
   "file_extension": ".py",
   "mimetype": "text/x-python",
   "name": "python",
   "nbconvert_exporter": "python",
   "pygments_lexer": "ipython3",
   "version": "3.9.13"
  }
 },
 "nbformat": 4,
 "nbformat_minor": 5
}
